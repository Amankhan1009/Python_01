{
 "cells": [
  {
   "cell_type": "code",
   "execution_count": 1,
   "id": "cc5bbf48-3d95-4c6f-8111-d7646497f8e6",
   "metadata": {},
   "outputs": [],
   "source": [
    "# Q1:  Explain the key features of Python that make it a popular choice for programming.\n",
    "\n",
    "\n",
    "# Ans:Python is a popular programming language due to several key features:\n",
    "#     ->Easy to Learn and Use: Python has a simple syntax that mimics natural language, making it easier to read and write code.\n",
    "#     ->Interpreted Language: Python is an interpreted language, which means that the code is executed line by line, making debugging easier.\n",
    "#     ->Versatile: Python is a general-purpose language that can be used for web development, data science, machine learning, artificial       \n",
    "#       intelligence, scientific computing, and more.\n",
    "#     ->Cross-Platform: Python is available on various platforms, including Windows, macOS, and Linux.\n",
    "#     ->Community Support: Python has a large and active community, which means a wealth of resources, libraries, and frameworks are \n",
    "#       available."
   ]
  },
  {
   "cell_type": "code",
   "execution_count": 2,
   "id": "e3b9f3c1-d14b-4fad-99f9-232d60034b0a",
   "metadata": {},
   "outputs": [],
   "source": [
    "# Q2:Describe the role of predefined keywords in Python and provide examples of how they are used in a program.\n",
    "\n",
    "\n",
    "# Ans:Predefined keywords in Python are reserved words that have special meanings and cannot be used for variable\n",
    "#     names, function names, or any other identifier names. They are used to define the structure and syntax of the Python language. \n",
    "#     Example are written below ->\n",
    "\n",
    "#        Ex1->if, elif, else: Used for conditional statements.\n",
    "\n",
    "#       if condition:\n",
    "#            print(\"Condition is True\")\n",
    "#        elif another_condition:\n",
    "#            print(\"Another condition is True\")\n",
    "#        else:\n",
    "#            print(\"Condition is False\")\n",
    "            \n",
    "    \n",
    "#        Ex2-> for, while: Used for loops.\n",
    "\n",
    "#         for i in range(5):\n",
    "#             print(i)\n",
    "\n",
    "#         while condition:\n",
    "#             print(\"In loop\")\n",
    "#             condition = False\n",
    "\n",
    "\n",
    "#          Ex3->def: Used to define a function.\n",
    "#          def greet(name):\n",
    "#            return f\"Hello, {name}\""
   ]
  },
  {
   "cell_type": "code",
   "execution_count": 3,
   "id": "80814330-2d65-4824-99c2-df2e5f890195",
   "metadata": {},
   "outputs": [],
   "source": [
    "# Q3.  Compare and contrast mutable and immutable objects in Python with examples.\n",
    "# Ans: Mutable Objects: Objects that can be changed after their creation.\n",
    "#      Examples: Lists, dictionaries, sets. "
   ]
  },
  {
   "cell_type": "code",
   "execution_count": 4,
   "id": "77125322-001f-46d2-999d-330aa14b2d79",
   "metadata": {},
   "outputs": [
    {
     "data": {
      "text/plain": [
       "[25, 2, 50, 4]"
      ]
     },
     "execution_count": 4,
     "metadata": {},
     "output_type": "execute_result"
    }
   ],
   "source": [
    "# Ex1->\n",
    "li= [1, 2, 3 , 4]\n",
    "li[0]= 25\n",
    "li[2]= 50\n",
    "li"
   ]
  },
  {
   "cell_type": "code",
   "execution_count": 5,
   "id": "994fcf69-03ed-43d0-8146-ecfcd88385e9",
   "metadata": {},
   "outputs": [
    {
     "data": {
      "text/plain": [
       "{1, 2, 5, 8, 9}"
      ]
     },
     "execution_count": 5,
     "metadata": {},
     "output_type": "execute_result"
    }
   ],
   "source": [
    "# Ex2->\n",
    "s={1, 2, 5, 8}\n",
    "s.add(9)\n",
    "s"
   ]
  },
  {
   "cell_type": "code",
   "execution_count": 6,
   "id": "378591d7-ece7-4453-bc52-9ea8259adc01",
   "metadata": {},
   "outputs": [],
   "source": [
    "# Immutable Objects: Objects that cannot be changed after their creation.\n",
    "# Examples: Tuples, strings, integers."
   ]
  },
  {
   "cell_type": "code",
   "execution_count": 7,
   "id": "c05a1891-7973-4995-a0c3-95dac4c0e714",
   "metadata": {},
   "outputs": [],
   "source": [
    "# Ex1\n",
    "my_tuple = (1, 2, 3)\n",
    "# my_tuple[0] = 4  #would raise a TypeError"
   ]
  },
  {
   "cell_type": "code",
   "execution_count": 8,
   "id": "d0b23615-f491-469b-9401-928ebb6440b1",
   "metadata": {},
   "outputs": [],
   "source": [
    "# Q4. Discuss the different types of operators in Python and provide examples of how they are used.\n",
    "\n",
    "# Ans:Python supports several types of operators:\n",
    "a = 10\n",
    "b = 3"
   ]
  },
  {
   "cell_type": "code",
   "execution_count": 9,
   "id": "4fa83502-a870-47d4-af07-221631a9de02",
   "metadata": {},
   "outputs": [
    {
     "name": "stdout",
     "output_type": "stream",
     "text": [
      "13\n",
      "7\n"
     ]
    }
   ],
   "source": [
    "# --> Arithmetic Operators: +, -, *, /, %, **, //\n",
    "print(a + b)  # 13\n",
    "print(a - b)  #  7"
   ]
  },
  {
   "cell_type": "code",
   "execution_count": 10,
   "id": "2fe028ae-1833-4d13-8e64-30192cf853a7",
   "metadata": {},
   "outputs": [
    {
     "name": "stdout",
     "output_type": "stream",
     "text": [
      "False\n",
      "True\n"
     ]
    }
   ],
   "source": [
    "# --> Comparison Operators: ==, !=, >, <, >=, <=\n",
    "print(a == b)  # False\n",
    "print(a != b)  # True"
   ]
  },
  {
   "cell_type": "code",
   "execution_count": 11,
   "id": "0c1b46e3-cf7b-4df4-b20a-fae894ebe727",
   "metadata": {},
   "outputs": [
    {
     "name": "stdout",
     "output_type": "stream",
     "text": [
      "True\n",
      "False\n"
     ]
    }
   ],
   "source": [
    "# --> Logical Operators: and, or, not\n",
    "print(a > 5 or b > 5)  # True\n",
    "print(not(a > 5))  # False"
   ]
  },
  {
   "cell_type": "code",
   "execution_count": 12,
   "id": "2c4fab17-83f4-4b10-b723-a4dd3a97b4ed",
   "metadata": {},
   "outputs": [
    {
     "name": "stdout",
     "output_type": "stream",
     "text": [
      "2\n",
      "11\n"
     ]
    }
   ],
   "source": [
    "# --> Bitwise Operators: &, |, ^, ~, <<, >>\n",
    "print(a & b)  # Bitwise AND\n",
    "print(a | b)  # Bitwise OR"
   ]
  },
  {
   "cell_type": "code",
   "execution_count": 13,
   "id": "d7cff9da-001e-46aa-ab73-45d713cf8af4",
   "metadata": {},
   "outputs": [
    {
     "name": "stdout",
     "output_type": "stream",
     "text": [
      "12\n",
      "36\n"
     ]
    }
   ],
   "source": [
    "# --> Assignment Operators: =, +=, -=, *=, /=, %=, **=, //=\n",
    "a = 10\n",
    "a += 2  # a = 12\n",
    "print(a)\n",
    "a *= 3  # a = 36\n",
    "print(a)"
   ]
  },
  {
   "cell_type": "code",
   "execution_count": 14,
   "id": "c58eec72-1f6f-479d-b692-8aa23572ac5e",
   "metadata": {},
   "outputs": [],
   "source": [
    "# Q5. Explain the concept of type casting in Python with examples.\n",
    "# Ans:Type casting is the process of converting one data type into another. Python provides \n",
    "#     several built-in functions for type casting.  "
   ]
  },
  {
   "cell_type": "code",
   "execution_count": 15,
   "id": "272f54e3-4572-4d06-b27f-57c2dabbf661",
   "metadata": {},
   "outputs": [
    {
     "name": "stdout",
     "output_type": "stream",
     "text": [
      "3\n",
      "10\n"
     ]
    }
   ],
   "source": [
    "# Ex1->int(): Converts to integer\n",
    "a = int(3.5)  # a = 3\n",
    "b = int(\"10\")  # b = 10\n",
    "print(a)\n",
    "print(b)"
   ]
  },
  {
   "cell_type": "code",
   "execution_count": 16,
   "id": "b5b46e39-bfcb-4cc1-b525-d8563afc8d07",
   "metadata": {},
   "outputs": [
    {
     "name": "stdout",
     "output_type": "stream",
     "text": [
      "3.0\n",
      "10.5\n"
     ]
    }
   ],
   "source": [
    "#Ex2->float(): Converts to float\n",
    "a = float(3)  # a = 3.0\n",
    "b = float(\"10.5\")  # b = 10.5\n",
    "print(a)\n",
    "print(b)"
   ]
  },
  {
   "cell_type": "code",
   "execution_count": 17,
   "id": "f5b21ebb-9224-4456-a0ae-444bddfd76bc",
   "metadata": {},
   "outputs": [
    {
     "name": "stdout",
     "output_type": "stream",
     "text": [
      "10\n",
      "3.14\n"
     ]
    }
   ],
   "source": [
    "# Ex3->str(): Converts to string\n",
    "a = str(10)  # a = \"10\"\n",
    "b = str(3.14)  # b = \"3.14\"\n",
    "print(a)\n",
    "print(b)"
   ]
  },
  {
   "cell_type": "code",
   "execution_count": 18,
   "id": "a5d728cd-7bd4-4406-b2bb-42cb7d75018d",
   "metadata": {},
   "outputs": [],
   "source": [
    "# Q6. How do conditional statements work in Python? Illustrate with examples.\n",
    "# Ans:Conditional statements in Python are used to execute code blocks based on certain conditions."
   ]
  },
  {
   "cell_type": "code",
   "execution_count": 19,
   "id": "efa4137c-6d25-475c-9552-4e154093b622",
   "metadata": {},
   "outputs": [
    {
     "name": "stdout",
     "output_type": "stream",
     "text": [
      "a is greater than b\n"
     ]
    }
   ],
   "source": [
    "# Ex1->if statement: Executes a block of code if a condition is true.\n",
    "a=10\n",
    "b=6\n",
    "if a > b:\n",
    "    print(\"a is greater than b\")"
   ]
  },
  {
   "cell_type": "code",
   "execution_count": 20,
   "id": "12b2f620-443f-4203-9120-af09f238f0a2",
   "metadata": {},
   "outputs": [
    {
     "name": "stdout",
     "output_type": "stream",
     "text": [
      "a is not greater than b\n"
     ]
    }
   ],
   "source": [
    "# Ex2->if-else statement: Executes one block of code if a condition is true and another block if it is false.\n",
    "a=10\n",
    "b=18\n",
    "if a > b:\n",
    "    print(\"a is greater than b\")\n",
    "else:\n",
    "    print(\"a is not greater than b\")"
   ]
  },
  {
   "cell_type": "code",
   "execution_count": 21,
   "id": "3b97af2b-af07-4c22-bf0d-0dbb59107bcc",
   "metadata": {},
   "outputs": [
    {
     "name": "stdout",
     "output_type": "stream",
     "text": [
      "a is equal to b\n"
     ]
    }
   ],
   "source": [
    "# Ex3->if-elif-else statement: Checks multiple conditions.\n",
    "a=18\n",
    "b=18\n",
    "if a > b:\n",
    "    print(\"a is greater than b\")\n",
    "elif a == b:\n",
    "    print(\"a is equal to b\")\n",
    "else:\n",
    "    print(\"a is less than b\")"
   ]
  },
  {
   "cell_type": "code",
   "execution_count": 22,
   "id": "b14e79b6-2926-4821-b12e-33e9d10dd238",
   "metadata": {},
   "outputs": [],
   "source": [
    "# Q7. Describe the different types of loops in Python and their use cases with examples.\n",
    "# Ans:Python supports two main types of loops: for and while.\n",
    "#     (i)for loop: Iterates over a sequence (like a list, tuple, string) or other iterable objects.\n",
    "#     (ii)while loop: Repeats a block of code as long as a condition is true"
   ]
  },
  {
   "cell_type": "code",
   "execution_count": 23,
   "id": "aff56d04-82a1-4624-a467-693c315ac4ff",
   "metadata": {},
   "outputs": [
    {
     "name": "stdout",
     "output_type": "stream",
     "text": [
      "0\n",
      "1\n",
      "2\n",
      "3\n",
      "4\n",
      "h\n",
      "e\n",
      "l\n",
      "l\n",
      "o\n"
     ]
    }
   ],
   "source": [
    "# Ex. for loop\n",
    "for i in range(5):\n",
    "    print(i)\n",
    "\n",
    "for char in \"hello\":\n",
    "    print(char)"
   ]
  },
  {
   "cell_type": "code",
   "execution_count": 24,
   "id": "65fc88fe-a681-408e-b84f-e92c6aea76e5",
   "metadata": {},
   "outputs": [
    {
     "name": "stdout",
     "output_type": "stream",
     "text": [
      "0\n",
      "1\n",
      "2\n",
      "3\n",
      "4\n"
     ]
    }
   ],
   "source": [
    "# Ex. for while loop\n",
    "count = 0\n",
    "while count < 5:\n",
    "    print(count)\n",
    "    count += 1\n"
   ]
  },
  {
   "cell_type": "code",
   "execution_count": null,
   "id": "038b07d3-abac-4695-8f16-ca51b08ccb18",
   "metadata": {},
   "outputs": [],
   "source": []
  }
 ],
 "metadata": {
  "kernelspec": {
   "display_name": "Python 3 (ipykernel)",
   "language": "python",
   "name": "python3"
  },
  "language_info": {
   "codemirror_mode": {
    "name": "ipython",
    "version": 3
   },
   "file_extension": ".py",
   "mimetype": "text/x-python",
   "name": "python",
   "nbconvert_exporter": "python",
   "pygments_lexer": "ipython3",
   "version": "3.10.8"
  }
 },
 "nbformat": 4,
 "nbformat_minor": 5
}
